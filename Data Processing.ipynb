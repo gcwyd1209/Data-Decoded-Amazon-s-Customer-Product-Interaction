{
 "cells": [
  {
   "cell_type": "markdown",
   "metadata": {},
   "source": [
    "# Data Processing"
   ]
  },
  {
   "cell_type": "markdown",
   "metadata": {},
   "source": [
    "##### Filter Auto Customer Review Data"
   ]
  },
  {
   "cell_type": "code",
   "execution_count": null,
   "metadata": {},
   "outputs": [],
   "source": [
    "\n",
    "import json\n",
    "\n",
    "input_file = '/Users/wenz/Downloads/Automotive.jsonl'\n",
    "output_file = '/Users/wenz/Downloads/Automotive_filtered.jsonl'\n",
    "\n",
    "\n",
    "fields_to_remove = ['images', 'helpful_vote','asin','verified_purchase',\n",
    "                    'timestamp','text']\n",
    "\n",
    "with open(input_file, 'r') as fin, open(output_file, 'w') as fout:\n",
    "    for line in fin:\n",
    "        row = json.loads(line.strip())\n",
    "\n",
    "        for field in fields_to_remove:\n",
    "            row.pop(field, None)\n",
    "\n",
    "        if row:\n",
    "\n",
    "            fout.write(json.dumps(row) + '\\n')"
   ]
  },
  {
   "cell_type": "markdown",
   "metadata": {},
   "source": [
    "##### Filter Auto Product Information Data"
   ]
  },
  {
   "cell_type": "code",
   "execution_count": null,
   "metadata": {},
   "outputs": [],
   "source": [
    "import json\n",
    "\n",
    "input_file = '/Users/wenz/Downloads/Automotive.jsonl'\n",
    "output_file = '/Users/wenz/Downloads/Automotive_filtered.jsonl'\n",
    "\n",
    "\n",
    "fields_to_remove = ['images', 'helpful_vote','asin','verified_purchase',\n",
    "                    'timestamp','text']\n",
    "\n",
    "\n",
    "with open(input_file, 'r') as fin, open(output_file, 'w') as fout:\n",
    "    for line in fin:\n",
    "        row = json.loads(line.strip())\n",
    "        \n",
    "        for field in fields_to_remove:\n",
    "            row.pop(field, None)\n",
    "        \n",
    "        if row:\n",
    "            \n",
    "            fout.write(json.dumps(row) + '\\n')\n",
    "\n",
    "\n",
    "\n"
   ]
  },
  {
   "cell_type": "markdown",
   "metadata": {},
   "source": [
    "##### Combiine Two Datasets Together"
   ]
  },
  {
   "cell_type": "code",
   "execution_count": null,
   "metadata": {},
   "outputs": [],
   "source": [
    "import json\n",
    "\n",
    "file1_path = '/Users/wenz/Downloads/Automotive_filtered.jsonl'\n",
    "file2_path = '/Users/wenz/Downloads/meta_Automotive_filtered.jsonl'\n",
    "output_file_path = '/Users/wenz/Downloads/combined_data.jsonl'\n",
    "\n",
    "\n",
    "records_dict = {}\n",
    "\n",
    "\n",
    "with open(file1_path, 'r') as file1:\n",
    "    for line in file1:\n",
    "        data = json.loads(line.strip())\n",
    "        parent_asin = data.get('parent_asin')\n",
    "        if parent_asin:\n",
    "            records_dict[parent_asin] = data\n",
    "\n",
    "\n",
    "with open(file2_path, 'r') as file2:\n",
    "    for line in file2:\n",
    "        data = json.loads(line.strip())\n",
    "        parent_asin = data.get('parent_asin')\n",
    "        if parent_asin:\n",
    "            if parent_asin in records_dict:\n",
    "                \n",
    "                records_dict[parent_asin].update(data)\n",
    "            else:\n",
    "                \n",
    "                records_dict[parent_asin] = data\n",
    "\n",
    "\n",
    "with open(output_file_path, 'w') as outfile:\n",
    "    for record in records_dict.values():\n",
    "        outfile.write(json.dumps(record) + '\\n')\n"
   ]
  },
  {
   "cell_type": "markdown",
   "metadata": {},
   "source": [
    "##### Covert Dataset Format To CSV"
   ]
  },
  {
   "cell_type": "code",
   "execution_count": null,
   "metadata": {},
   "outputs": [],
   "source": [
    "import json\n",
    "import csv\n",
    "\n",
    "def jsonl_to_csv(jsonl_file, csv_file):\n",
    "    \n",
    "    with open(jsonl_file, 'r', encoding='utf-8') as json_file, \\\n",
    "            open(csv_file, 'w', encoding='utf-8', newline='') as csv_file:\n",
    "        \n",
    "        csv_writer = csv.writer(csv_file)\n",
    "\n",
    "       \n",
    "        headers = [\"rating\", \"title\", \"parent_asin\", \"user_id\", \"average_rating\", \"rating_number\", \"price\", \"store\", \"categories\"]\n",
    "        csv_writer.writerow(headers)\n",
    "\n",
    "        \n",
    "        for line in json_file:\n",
    "            \n",
    "            data = json.loads(line)\n",
    "\n",
    "            \n",
    "            row = [\n",
    "                data.get('rating', ''),\n",
    "                data.get('title', ''),\n",
    "                data.get('parent_asin', ''),\n",
    "                data.get('user_id', ''),\n",
    "                data.get('average_rating', ''),\n",
    "                data.get('rating_number', ''),\n",
    "                data.get('price', ''),\n",
    "                data.get('store', ''),\n",
    "                ', '.join(data.get('categories', []))  \n",
    "            ]\n",
    "\n",
    "            \n",
    "            csv_writer.writerow(row)\n",
    "\n",
    "jsonl_file_path = '/Users/wenz/Downloads/combined_data.jsonl'\n",
    "csv_file_path = '/Users/wenz/Downloads/combined_data.csv'\n",
    "\n",
    "\n",
    "jsonl_to_csv(jsonl_file_path, csv_file_path)\n"
   ]
  }
 ],
 "metadata": {
  "language_info": {
   "name": "python"
  }
 },
 "nbformat": 4,
 "nbformat_minor": 2
}
